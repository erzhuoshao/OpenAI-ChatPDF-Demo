{
 "cells": [
  {
   "cell_type": "code",
   "execution_count": 1,
   "metadata": {},
   "outputs": [],
   "source": [
    "import os, openai\n",
    "import getpass\n",
    "\n",
    "os.environ[\"OPENAI_API_KEY\"] = openai.api_key = getpass.getpass(\"OpenAI API Key:\")\n",
    "\n",
    "from glob import glob\n",
    "pdf_path_list = glob('Papers/*.pdf')\n",
    "\n",
    "from langchain.agents.openai_assistant.base import OpenAIAssistantRunnable"
   ]
  },
  {
   "cell_type": "code",
   "execution_count": 2,
   "metadata": {},
   "outputs": [],
   "source": [
    "client = openai.OpenAI()\n",
    "file = client.files.create(\n",
    "    file=open(pdf_path_list[0], 'rb'),\n",
    "    purpose='assistants',\n",
    ")"
   ]
  },
  {
   "cell_type": "code",
   "execution_count": 3,
   "metadata": {},
   "outputs": [],
   "source": [
    "runnable = OpenAIAssistantRunnable.create_assistant(\n",
    "    client=client, model=\"gpt-4-turbo\", as_agent=True,\n",
    "    tools=[{\"type\": \"retrieval\"}], tool_resources={\"retrieval\": {\"file_ids\": [file.id]}}, \n",
    "    name=\"AI Scientist\",\n",
    "    instructions=\"You are a experienced AI scientist, who could answer questions according to a given papers.\",\n",
    ")\n",
    "\n",
    "response = runnable.invoke({\n",
    "    'content':\"Summary this paper's first-order key research question and insights in one sentence\", \n",
    "    'file_ids': [file.id]\n",
    "})"
   ]
  },
  {
   "cell_type": "code",
   "execution_count": null,
   "metadata": {},
   "outputs": [],
   "source": [
    "print(response.return_values['output'])"
   ]
  },
  {
   "cell_type": "code",
   "execution_count": null,
   "metadata": {},
   "outputs": [],
   "source": []
  }
 ],
 "metadata": {
  "kernelspec": {
   "display_name": "SciSciGPT",
   "language": "python",
   "name": "python3"
  },
  "language_info": {
   "codemirror_mode": {
    "name": "ipython",
    "version": 3
   },
   "file_extension": ".py",
   "mimetype": "text/x-python",
   "name": "python",
   "nbconvert_exporter": "python",
   "pygments_lexer": "ipython3",
   "version": "3.11.9"
  }
 },
 "nbformat": 4,
 "nbformat_minor": 2
}
